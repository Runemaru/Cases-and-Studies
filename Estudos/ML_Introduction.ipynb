{
 "cells": [
  {
   "cell_type": "markdown",
   "id": "bf3f1719",
   "metadata": {},
   "source": [
    "<center><b><h1>Aprendizado de Máquina</h1></b><center>\n",
    "<hr>\n",
    "\n",
    "Neste notebook irei armazenar todos os conhecimentos obtidos durante os meus estudos de 2025 sobre o Machine Learning e suas especificidades, aqui também será o local onde eu irei armazenar outros conhecimentos referentes as demais bibliotecas que forem utilizadas, iremos explorar dos conceitos aos parâmetros afim de destrinchar o máximo desse conhecimento abrangente."
   ]
  },
  {
   "cell_type": "markdown",
   "id": "723aa414",
   "metadata": {},
   "source": [
    "<hr>\n",
    "<center><h2><b>O que é Machine Learning?</b></h2></center>\n",
    "\n",
    "Nos dias de hoje o significado de Machine Learning foi amplamente discutido e muitos sabem o que é essa ferramenta valiosa para a área de dados, contudo vamos explicar isso para não passarmos batidos por pormenores dos quais não discutimos. Portanto é necessário entender que o termo Machine Learning (ML) não foi algo criado da noite pro dia e muito menos em 1943 quando o conceito de Redes Neurais passou a ser explorado por McCulloch e Walter Pitts. \n",
    "\n",
    "O aprendizado de máquina trata de fazer uma pergunta diária para os seus estudiosos, uma máquina é capaz de aprender por si própria? Um dos exemplos que vieram de fato a nomear o ML com o nome que conhecemos hoje foi graças a Arthur Samuel, cientista da computação que trabalhou na IBM e que desenvolveu um jogo de dama que conseguia aprender através de self-play. Com isto nasce o Machine Learning em 1959, que conforme o passar dos anos foi se desenvolvendo de forma exponencial\n",
    "\n",
    "<center><h3><b>Como funciona nos dias de hoje?</b></h3></center>\n",
    "\n",
    "Nos dias de hoje, o algoritmo de aprendizado de máquina se tornou uma ferramenta vital para o funcionamento da nossa sociedade, sendo utilizado para detecção de fraudes bancárias, verificação facial, identificação de sinais que possam indicar o início, meio, fim de uma comorbidade e tudo isto graças a sua capacidade de enxergar dados tabulares e não-tabulares de forma distinta.\n",
    "<hr>"
   ]
  },
  {
   "cell_type": "markdown",
   "id": "57f46839",
   "metadata": {},
   "source": [
    "<center><h2><b>Aprendizados</b></h2></center>\n",
    "<center><h3><b>Do supervisionado ao não supervisionado</b></h3></center>\n",
    "\n",
    "Como abordado no tópico anterior, o aprendizado de máquina é uma ferramenta muito valiosa e tem vários meios de utilização a depender dos dados que são disponibilizados durante o processo de execução do algoritmo escolhido, e é antes de definir o algoritmo que utilizaremos que precisamos identificar qual é o método de aprendizado que mais se adequa a situação-problema apresentada para solução:\n",
    "* <b>Aprendizado supervisionado:</b>\n",
    "    * Este tipo de aprendizado tem um enfoque maior em auxiliar na aplicação de regressões e também classificações de comportamentos referentes a dados diversos. Funcionando a partir de dados rotulados, esses dados vão conter características de algo que são utilizadas para formar conjuntos de treinamento e teste para o algoritmo, sendo o de teste: Sem resposta, e o de treino: Com algumas respostas para \"n\" características. A ideia por trás deste algoritmo está em identificar estes padrões e transformar estes numa resposta de qual elemento tem essas características, ou com base nesses valores o quanto minhas ações podem subir por exemplo.\n",
    "* <b>Aprendizado não-supervisionado:</b>\n",
    "    * Já esta metodologia de aprendizado não tem dados rotulados, então por não depender da disponibilização de informações para trabalhar, a ideia deste aprendizado é identificar padrões semelhantes e não semelhantes visando classificar estes em grupos que chamamos de clusters. Um algoritmo bem conhecido é o K-means, que faz este trabalho de segregar grupos distintos e unir grupos de mesmas características. Sua usabilidade está presente em várias áreas e inclusive auxilia na identificação de tumores e outros fatores.\n",
    "* <b>Aprendizado por reforço</b>\n",
    "    * Este método por sua vez tem como base a aprendizagem por metas. O aprendizado é baseado na experiência adquirida por aquele modelo após \"n\" períodos, sendo mais utilizado para casos em que há imprevisibilidade e variância elevada dos dados, permitindo que a máquina lide com erros e acertos através do seu processo de aprendizado, permitindo que a abordagem correta seja aplicada para entrega de resultados precisos.\n",
    "\n",
    "    <hr>\n",
    "\n",
    "\n",
    "<b><center><center></b>\n",
    "<b><center><center></b>\n",
    "<b><center><center></b>\n",
    "<b><center><center></b>"
   ]
  },
  {
   "cell_type": "markdown",
   "id": "76d68291",
   "metadata": {},
   "source": [
    "<h2><b><center>Testes paramétricos e não paramétricos</center></b></h2>\n",
    "\n",
    "É importante entender que é de extrema importância o conhecimento estatístico para construir algorítmos de aprendizado de máquina. E com isto, temos os testes paramétricos e não paramétricos que são responsáveis por nos auxiliar na criação de inferências sobre uma população a partir de uma amostra desta, contudo de acordo com a distribuição dos dados existem diferentes tipos de testes paramétricos e não paramétricos que podem ser utilizados.\n",
    "\n",
    "* <b>Teste paramétrico:</b> Este tipo de teste precisa que algumas condições sejam cumpridas para que possa ser utilizado, dentre elas:\n",
    "    * A variável dependente deve ser distribuida de forma aproximadamente normal na população.\n",
    "    * A variância entre os grupos analisados não pode ser muito distinta (heteroscedasticidade), para identificar este ponto temos o teste de Levene.\n",
    "    * Os resultados do indivíduo ou unidade da amostra devem ser independentes entre si.\n",
    "    * Testes paramétricos são mais indicados para variáveis contínuas e discretas, caso nominal ou ordinal é indicado o teste não paramétrico.\n",
    "\n",
    "        * **Exemplos de testes paramétricos:**\n",
    "            * Teste t de Student: O teste t é usado para comparar as médias de dois grupos. Existem diferentes tipos, dependendo da natureza dos dados\n",
    "            * Análise de Variância (ANOVA): A ANOVA é usada para comparar as médias de três ou mais grupos.\n",
    "            * Coeficiente de Correlação de Pearson: Este teste mede a força e a direção da relação linear entre duas variáveis contínuas\n",
    "            * Regressão linear: A regressão linear é usada para modelar a relação entre uma variável dependente e uma ou mais variáveis independentes, com o objetivo de prever resultados.\n",
    "            * Teste Z: O teste Z é usado para comparar a média de uma amostra com uma média populacional conhecida, mas é mais apropriado quando se conhece o desvio padrão da população e a amostra é grande. \n",
    "\n",
    "     \n",
    "* <b>Teste não paramétrico:</b> Os testes não paramétricos existem para analisar dados que não atendem às suposições estritas dos testes paramétricos, principalmente a suposição de que os dados seguem uma distribuição normal. Os testes não paramétricos trbalham com a ordenação dos dados (postos ou ranks), ou seja, a posição de cada observação em relação às outras, graças a isto estes métodos de análise se tornam menos dependentes da distribuição dos dados, já que a análise se baseia na ordem relativa e não nos valores absolutos dos dados, por exemplo. Logo geralmente usamos os testes não paramétricos quando:\n",
    "    * Quando a distribuição se desvia significamente da forma de sino.\n",
    "    * Com amostras pequenas que possuem menos de 30 unidades, pois é dificil determinar se de fato a distribuição é normal pelo baixo número de unidades presentes na amostra.\n",
    "    * Quando há dados ordinais ou nominais para análise.\n",
    "    * Quando a robustez é importante, já que os testes não paramétricos sõa menos sensíveis a valores discrepantes (outliers).\n",
    "\n",
    "        * **Exemplos de testes não paramétricos:**\n",
    "            * Teste de Mann-Whitney U: Equivalente ao teste t de Student para amostras independentes.\n",
    "            * Teste de Wilcoxon: Equivalente ao teste t pareado (para amostras dependentes).\n",
    "            * Teste de Kruskal-Wallis: Equivalente à Análise de Variância (ANOVA).\n",
    "            * Correlação de Spearman: Equivalente à correlação de Pearson.\n",
    "\n",
    "\n",
    "<h2><b><center>Modelos paramétricos e não paramétricos</center></b></h2>\n",
    "\n",
    "<h2><b><center>Testes paramétricos e não paramétricos</center></b></h2>\n",
    "\n"
   ]
  },
  {
   "cell_type": "markdown",
   "id": "7818b12e",
   "metadata": {},
   "source": [
    "<b><center><center></b>\n",
    "\n",
    "\n",
    "\n",
    "\n",
    "<b><center><center></b>\n",
    "<b><center><center></b>"
   ]
  }
 ],
 "metadata": {
  "kernelspec": {
   "display_name": "Python 3",
   "language": "python",
   "name": "python3"
  },
  "language_info": {
   "codemirror_mode": {
    "name": "ipython",
    "version": 3
   },
   "file_extension": ".py",
   "mimetype": "text/x-python",
   "name": "python",
   "nbconvert_exporter": "python",
   "pygments_lexer": "ipython3",
   "version": "3.12.10"
  }
 },
 "nbformat": 4,
 "nbformat_minor": 5
}

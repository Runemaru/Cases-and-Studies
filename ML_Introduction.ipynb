{
 "cells": [
  {
   "cell_type": "markdown",
   "id": "bf3f1719",
   "metadata": {},
   "source": [
    "<center><b><h1>Aprendizado de Máquina</h1></b><center>\n",
    "<hr>\n",
    "\n",
    "Neste notebook irei armazenar todos os conhecimentos obtidos durante os meus estudos de 2025 sobre o Machine Learning e suas especificidades, aqui também será o local onde eu irei armazenar outros conhecimentos referentes as demais bibliotecas que forem utilizadas, iremos explorar dos conceitos aos parâmetros afim de destrinchar o máximo desse conhecimento abrangente."
   ]
  },
  {
   "cell_type": "markdown",
   "id": "723aa414",
   "metadata": {},
   "source": [
    "<hr>\n",
    "<center><h2><b>O que é Machine Learning?</b></h2></center>\n",
    "\n",
    "Nos dias de hoje o significado de Machine Learning foi amplamente discutido e muitos sabem o que é essa ferramenta valiosa para a área de dados, contudo vamos explicar isso para não passarmos batidos por pormenores dos quais não discutimos. Portanto é necessário entender que o termo Machine Learning (ML) não foi algo criado da noite pro dia e muito menos em 1943 quando o conceito de Redes Neurais passou a ser explorado por McCulloch e Walter Pitts. \n",
    "\n",
    "O aprendizado de máquina trata de fazer uma pergunta diária para os seus estudiosos, uma máquina é capaz de aprender por si própria? Um dos exemplos que vieram de fato a nomear o ML com o nome que conhecemos hoje foi graças a Arthur Samuel, cientista da computação que trabalhou na IBM e que desenvolveu um jogo de dama que conseguia aprender através de self-play. Com isto nasce o Machine Learning em 1959, que conforme o passar dos anos foi se desenvolvendo de forma exponencial\n",
    "\n",
    "<center><h3><b>Como funciona nos dias de hoje?</b></h3></center>\n",
    "\n",
    "Nos dias de hoje, o algoritmo de aprendizado de máquina se tornou uma ferramenta vital para o funcionamento da nossa sociedade, sendo utilizado para detecção de fraudes bancárias, verificação facial, identificação de sinais que possam indicar o início, meio, fim de uma comorbidade e tudo isto graças a sua capacidade de enxergar dados tabulares e não-tabulares de forma distinta.\n",
    "<hr>"
   ]
  },
  {
   "cell_type": "markdown",
   "id": "57f46839",
   "metadata": {},
   "source": [
    "<center><h2><b>Aprendizados</b></h2></center>\n",
    "<center><h3><b>Do supervisionado ao não supervisionado</b></h3></center>\n",
    "\n",
    "Como abordado no tópico anterior, o aprendizado de máquina é uma ferramenta muito valiosa e tem vários meios de utilização a depender dos dados que são disponibilizados durante o processo de execução do algoritmo escolhido, e é antes de definir o algoritmo que utilizaremos que precisamos identificar qual é o método de aprendizado que mais se adequa a situação-problema apresentada para solução:\n",
    "* <b>Aprendizado supervisionado:</b>\n",
    "    * Este tipo de aprendizado tem um enfoque maior em auxiliar na aplicação de regressões e também classificações de comportamentos referentes a dados diversos. Funcionando a partir de dados rotulados, esses dados vão conter características de algo que são utilizadas para formar conjuntos de treinamento e teste para o algoritmo, sendo o de teste: Sem resposta, e o de treino: Com algumas respostas para \"n\" características. A ideia por trás deste algoritmo está em identificar estes padrões e transformar estes numa resposta de qual elemento tem essas características, ou com base nesses valores o quanto minhas ações podem subir por exemplo.\n",
    "* <b>Aprendizado não-supervisionado:</b>\n",
    "    * Já esta metodologia de aprendizado não tem dados rotulados, então por não depender da disponibilização de informações para trabalhar, a ideia deste aprendizado é identificar padrões semelhantes e não semelhantes visando classificar estes em grupos que chamamos de clusters. Um algoritmo bem conhecido é o K-means, que faz este trabalho de segregar grupos distintos e unir grupos de mesmas características. Sua usabilidade está presente em várias áreas e inclusive auxilia na identificação de tumores e outros fatores.\n",
    "* <b>Aprendizado por reforço</b>\n",
    "    * Este método por sua vez tem como base a aprendizagem por metas. O aprendizado é baseado na experiência adquirida por aquele modelo após \"n\" períodos, sendo mais utilizado para casos em que há imprevisibilidade e variância elevada dos dados, permitindo que a máquina lide com erros e acertos através do seu processo de aprendizado, permitindo que a abordagem correta seja aplicada para entrega de resultados precisos.\n",
    "\n",
    "    <hr>\n",
    "\n",
    "\n",
    "<b><center><center></b>\n",
    "<b><center><center></b>\n",
    "<b><center><center></b>\n",
    "<b><center><center></b>"
   ]
  },
  {
   "cell_type": "markdown",
   "id": "7818b12e",
   "metadata": {},
   "source": [
    "<b><center><center></b>\n",
    "\n",
    "\n",
    "\n",
    "\n",
    "<b><center><center></b>\n",
    "<b><center><center></b>"
   ]
  }
 ],
 "metadata": {
  "kernelspec": {
   "display_name": "Python 3",
   "language": "python",
   "name": "python3"
  },
  "language_info": {
   "codemirror_mode": {
    "name": "ipython",
    "version": 3
   },
   "file_extension": ".py",
   "mimetype": "text/x-python",
   "name": "python",
   "nbconvert_exporter": "python",
   "pygments_lexer": "ipython3",
   "version": "3.12.4"
  }
 },
 "nbformat": 4,
 "nbformat_minor": 5
}
